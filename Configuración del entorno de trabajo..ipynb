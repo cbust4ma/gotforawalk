{
 "cells": [
  {
   "cell_type": "markdown",
   "metadata": {},
   "source": [
    "## Instalación de Python 3"
   ]
  },
  {
   "cell_type": "markdown",
   "metadata": {},
   "source": [
    "Para poder usar Django tendrás que instalar Python en tu sistema operativo. Si estás usando Python 3 necesitarás la herramienta Python Package Index — pip3 — que se usa para gestionar (instalar, actualizar y eliminar) los paquetes/bibliotecas Python usados por Django y tus otras aplicaciones Python."
   ]
  },
  {
   "cell_type": "markdown",
   "metadata": {},
   "source": []
  },
  {
   "cell_type": "markdown",
   "metadata": {},
   "source": [
    "### Ubuntu"
   ]
  },
  {
   "cell_type": "markdown",
   "metadata": {},
   "source": [
    "**python3 -v**"
   ]
  },
  {
   "cell_type": "markdown",
   "metadata": {},
   "source": [
    "**sudo apt-get install python3-pip**"
   ]
  },
  {
   "cell_type": "markdown",
   "metadata": {},
   "source": []
  },
  {
   "cell_type": "markdown",
   "metadata": {},
   "source": [
    "### Mac OS X"
   ]
  },
  {
   "cell_type": "markdown",
   "metadata": {},
   "source": [
    "1. Descarga el instalador requerido:\n",
    "   - Vete a https://www.python.org/downloads/\n",
    "   - Selecciona el botón Descarga Python 3.x.x.\n",
    "2. Localiza el fichero usando Finder, haz doble-click sobre el fichero del paquete. Pincha siguiente en las ventanas de instalación."
   ]
  },
  {
   "cell_type": "markdown",
   "metadata": {},
   "source": [
    "#####  Puedes confirmar ahora una instalación satisfactoria comprobando Python 3 como se muestra a continuación:"
   ]
  },
  {
   "cell_type": "markdown",
   "metadata": {},
   "source": [
    "**python3 -v**"
   ]
  },
  {
   "cell_type": "markdown",
   "metadata": {},
   "source": [
    "##### Puedes igualmente comprobar que pip3 está instalado listando los paquetes disponibles"
   ]
  },
  {
   "cell_type": "markdown",
   "metadata": {},
   "source": [
    "**pip3 list**"
   ]
  },
  {
   "cell_type": "markdown",
   "metadata": {},
   "source": []
  },
  {
   "cell_type": "markdown",
   "metadata": {},
   "source": [
    "### Windows 10"
   ]
  },
  {
   "cell_type": "markdown",
   "metadata": {},
   "source": [
    "1. Descarga el instalador requerido:\n",
    "   - Vete a https://www.python.org/downloads/\n",
    "   - Selecciona el botón Descarga Python 3.x.x.\n",
    "2. Instala Python haciendo doble-click en el fichero descargado y pulsando siguiente en las ventanas de instalación."
   ]
  },
  {
   "cell_type": "markdown",
   "metadata": {},
   "source": [
    "##### Puedes verificar a continuación que Python 3 se instaló correctamente entrando el siguiente texto en una ventana de comandos:"
   ]
  },
  {
   "cell_type": "markdown",
   "metadata": {},
   "source": [
    "**py -3 -V**"
   ]
  },
  {
   "cell_type": "markdown",
   "metadata": {},
   "source": [
    "##### El instalador de Windows incorpora pip3 (el gestor de paquetes de Python) por defecto. Puedes listar paquetes como se muestra a continuación:"
   ]
  },
  {
   "cell_type": "markdown",
   "metadata": {},
   "source": [
    "**pip3 list**"
   ]
  },
  {
   "cell_type": "markdown",
   "metadata": {},
   "source": []
  },
  {
   "cell_type": "markdown",
   "metadata": {},
   "source": [
    "## Uso de Django dentro de un entorno virtual de Python"
   ]
  },
  {
   "cell_type": "markdown",
   "metadata": {},
   "source": [
    "Las bibliotecas que usaremos para crear nuestros entornos virtuales están en virtualenvwrapper (Linux and Mac OS X) y virtualenvwrapper-win (Windows), que utilizan a su vez la herramienta virtualenv. Las herramientas wrapper crean una interfaz consistente para la gestión de interfaces en todas las plataformas."
   ]
  },
  {
   "cell_type": "markdown",
   "metadata": {},
   "source": [
    "### Puesta en marcha del entorno virtual en Ubuntu"
   ]
  },
  {
   "cell_type": "markdown",
   "metadata": {},
   "source": [
    "Después de instalar Python y pip puedes instalar virtualenvwrapper (que incluye virtualenv) usando pip3 como se muestra."
   ]
  },
  {
   "cell_type": "markdown",
   "metadata": {},
   "source": [
    "**sudo pip3 install virtualenvwrapper**"
   ]
  },
  {
   "cell_type": "markdown",
   "metadata": {},
   "source": [
    "A continuación añade las siguientes líneas al final del fichero de inicio de tu shell (éste es un fichero oculto llamado .bashrc que se encuentra en tu directorio de inicio del usuario). Ésto ajusta la localización de donde deberían vivir los entornos virtuales, la localización de los directorios de tus proyectos de desarrollo, y la localización del script instalado con este paquete:"
   ]
  },
  {
   "cell_type": "markdown",
   "metadata": {},
   "source": [
    "**export WORKON_HOME=$HOME/.virtualenvs**"
   ]
  },
  {
   "cell_type": "markdown",
   "metadata": {},
   "source": [
    "**export VIRTUALENVWRAPPER_PYTHON=/usr/bin/python3**"
   ]
  },
  {
   "cell_type": "markdown",
   "metadata": {},
   "source": [
    "**export PROJECT_HOME=$HOME/Devel**"
   ]
  },
  {
   "cell_type": "markdown",
   "metadata": {},
   "source": [
    "**source /usr/local/bin/virtualenvwrapper.sh**"
   ]
  },
  {
   "cell_type": "markdown",
   "metadata": {},
   "source": [
    "##### A continuación volver a recargar el fichero de inicio ejecutando el siguiente comando en el terminal:"
   ]
  },
  {
   "cell_type": "markdown",
   "metadata": {},
   "source": [
    "**source ~/.bashrc**"
   ]
  },
  {
   "cell_type": "markdown",
   "metadata": {},
   "source": [
    "##### En este punto deberías ver un puñado de scripts empezando a ejecutarse como se muestra a continuación:"
   ]
  },
  {
   "cell_type": "markdown",
   "metadata": {},
   "source": [
    "virtualenvwrapper.user_scripts creating /home/ubuntu/.virtualenvs/premkproject\n",
    "virtualenvwrapper.user_scripts creating /home/ubuntu/.virtualenvs/postmkproject\n",
    "...\n",
    "virtualenvwrapper.user_scripts creating /home/ubuntu/.virtualenvs/preactivate\n",
    "virtualenvwrapper.user_scripts creating /home/ubuntu/.virtualenvs/postactivate\n",
    "virtualenvwrapper.user_scripts creating /home/ubuntu/.virtualenvs/get_env_details"
   ]
  },
  {
   "cell_type": "markdown",
   "metadata": {},
   "source": [
    "##### Ahora puedes crear un nuevo entorno virtual con el comando mkvirtualenv."
   ]
  },
  {
   "cell_type": "markdown",
   "metadata": {},
   "source": []
  },
  {
   "cell_type": "markdown",
   "metadata": {},
   "source": [
    "### Puesta en marcha del entorno virtual en Mac OS X"
   ]
  },
  {
   "cell_type": "markdown",
   "metadata": {},
   "source": [
    "El ajuste de virtualenvwrapper en Mac OS X es casi idéntico a como es en Ubuntu.\n",
    "\n",
    "Instalar virtualenvwrapper (y virtualenv incluido en el paquete) usando pip como se muestra a continuación."
   ]
  },
  {
   "cell_type": "markdown",
   "metadata": {},
   "source": [
    "**sudo pip3 install virtualenvwrapper**"
   ]
  },
  {
   "cell_type": "markdown",
   "metadata": {},
   "source": [
    "A continuación añadir las siguientes líneas al final del fichero de inicio de tu shell. Son las mismas líneas que para Ubuntu, pero el fichero de inicio se llama de forma diferente .bash_profile y está oculto en tu directorio de inicio."
   ]
  },
  {
   "cell_type": "markdown",
   "metadata": {},
   "source": [
    "**export WORKON_HOME=$HOME/.virtualenvs**"
   ]
  },
  {
   "cell_type": "markdown",
   "metadata": {},
   "source": [
    "**export VIRTUALENVWRAPPER_PYTHON=/usr/bin/python3**"
   ]
  },
  {
   "cell_type": "markdown",
   "metadata": {},
   "source": [
    "**export PROJECT_HOME=$HOME/Devel**"
   ]
  },
  {
   "cell_type": "markdown",
   "metadata": {},
   "source": [
    "**source /usr/local/bin/virtualenvwrapper.sh**"
   ]
  },
  {
   "cell_type": "markdown",
   "metadata": {},
   "source": [
    "**Nota:** Si no puedes encontrar .bash-profile para editar en el finder, puedes también abrirlo usando nano."
   ]
  },
  {
   "cell_type": "markdown",
   "metadata": {},
   "source": [
    "##### Los comandos parecen algo como lo siguiente."
   ]
  },
  {
   "cell_type": "markdown",
   "metadata": {},
   "source": [
    "**cd ~**  *# Navegar a mi directorio de inicio*"
   ]
  },
  {
   "cell_type": "markdown",
   "metadata": {},
   "source": [
    "**ls -la** *# Listar el contenido del directorio. Deberias ver .bash_profile*"
   ]
  },
  {
   "cell_type": "markdown",
   "metadata": {},
   "source": [
    "**nano .bash_profile** *# Abrir el fichero en el editor de texto nano, en el terminal*"
   ]
  },
  {
   "cell_type": "markdown",
   "metadata": {},
   "source": [
    "*# Avanzar hast el final del fichero, y copiar y pegar las lineas de arrriba*"
   ]
  },
  {
   "cell_type": "markdown",
   "metadata": {},
   "source": [
    "*# Usar Ctrl+X para salir de nano, Elegir Y para guardar el fichero.*"
   ]
  },
  {
   "cell_type": "markdown",
   "metadata": {},
   "source": [
    "##### A continuación recargar el fichero de inicio realizando la siguiente llamada en el terminal:"
   ]
  },
  {
   "cell_type": "markdown",
   "metadata": {},
   "source": [
    "source ~/.bash_profile"
   ]
  },
  {
   "cell_type": "markdown",
   "metadata": {},
   "source": [
    "En este punto deberías ver un puñado de scripts empezando a ejecutarse (los mismos scripts que para la instalación en Ubuntu). Deberías ser ahora capaz de crear un nuevo entorno virtual con el comado mkvirtualenv."
   ]
  },
  {
   "cell_type": "markdown",
   "metadata": {},
   "source": []
  },
  {
   "cell_type": "markdown",
   "metadata": {},
   "source": [
    "### Puesta en marcha del entorno virtual en Windows 10"
   ]
  },
  {
   "cell_type": "markdown",
   "metadata": {},
   "source": [
    "Instalar [virtualenvwrapper-win](https://pypi.python.org/pypi/virtualenvwrapper-win) es incluso más simple que poner en marcha virtualenvwrapper porque no necesitas configurar donde almacena la herramienta la información del entorno (hay un valor por defecto). Todo lo que necesitas hacer es ejecutar el siguiente comando en la consola de comandos en línea:"
   ]
  },
  {
   "cell_type": "markdown",
   "metadata": {},
   "source": [
    "**pip3 install virtualenvwrapper**"
   ]
  },
  {
   "cell_type": "markdown",
   "metadata": {},
   "source": [
    "**Y a continuación ya puedes crear un nuevo entorno virtual con mkvirtualenv**"
   ]
  },
  {
   "cell_type": "markdown",
   "metadata": {},
   "source": []
  },
  {
   "cell_type": "markdown",
   "metadata": {},
   "source": [
    "## Creación de un entorno virtual"
   ]
  },
  {
   "cell_type": "markdown",
   "metadata": {},
   "source": [
    "Una vez que hayas instalado virtualenvwrapper o virtualenvwrapper-win trabajar con entornos virtuales es muy similar en todas las plataformas."
   ]
  },
  {
   "cell_type": "markdown",
   "metadata": {},
   "source": [
    "Una vez que hayas instalado virtualenvwrapper o virtualenvwrapper-win trabajar con entornos virtuales es muy similar en todas las plataformas.\n",
    "\n",
    "Ahora puedes crear un nuevo entorno virtual con el comando mkvirtualenv. A medida que se ejecuta este comando verás que se va poniendo en marcha el entorno (lo que verás es ligeramente específico de la plataforma). Cuando se completa el comando el nuevo entorno virtual estará activo"
   ]
  },
  {
   "cell_type": "markdown",
   "metadata": {},
   "source": [
    "— podrás comprobarlo porque el comienzo del prompt será el nombre del entorno entre paréntesis (como se muestra abajo)."
   ]
  },
  {
   "cell_type": "markdown",
   "metadata": {},
   "source": [
    "**$ mkvirtualenv my_django_environment**"
   ]
  },
  {
   "cell_type": "markdown",
   "metadata": {},
   "source": [
    "**Running virtualenv with interpreter /usr/bin/python3**"
   ]
  },
  {
   "cell_type": "markdown",
   "metadata": {},
   "source": [
    "..."
   ]
  },
  {
   "cell_type": "markdown",
   "metadata": {},
   "source": [
    "*virtualenvwrapper.user_scripts creating *"
   ]
  },
  {
   "cell_type": "markdown",
   "metadata": {},
   "source": [
    "*/home/ubuntu/.virtualenvs/t_env7/bin/get_env_details*"
   ]
  },
  {
   "cell_type": "markdown",
   "metadata": {},
   "source": [
    "*Una vez que estás dentro del entorno virutal puedes instalar Django e iniciar el desarrollo.*"
   ]
  },
  {
   "cell_type": "markdown",
   "metadata": {},
   "source": [
    "###  Uso de un entorno virtual"
   ]
  },
  {
   "cell_type": "markdown",
   "metadata": {},
   "source": [
    "Hay sólo otros pocos comandos útiles que deberías conocer (hay más en la documentación de la herramienta, pero éstos son los que usarás de forma habitual:"
   ]
  },
  {
   "cell_type": "markdown",
   "metadata": {},
   "source": []
  },
  {
   "cell_type": "markdown",
   "metadata": {},
   "source": [
    "* deactivate\n",
    "— Salir del entorno virutal Python actual"
   ]
  },
  {
   "cell_type": "markdown",
   "metadata": {},
   "source": [
    "* workon \n",
    "— Listar los entornos virtuales disponibles"
   ]
  },
  {
   "cell_type": "markdown",
   "metadata": {},
   "source": [
    "* orkon name_of_environment \n",
    "— Activar el entorno virtual Python especificado"
   ]
  },
  {
   "cell_type": "markdown",
   "metadata": {},
   "source": [
    "* rmvirtualenv name_of_environment \n",
    "— Borrar el entorno especificado."
   ]
  },
  {
   "cell_type": "markdown",
   "metadata": {},
   "source": []
  },
  {
   "cell_type": "markdown",
   "metadata": {},
   "source": [
    "### Instalación de Django"
   ]
  },
  {
   "cell_type": "markdown",
   "metadata": {},
   "source": [
    "Una vez que has creado el entorno virtual, y realizado la llamada workon para entrar en él, puedes usar pip3 para instalar Django."
   ]
  },
  {
   "cell_type": "markdown",
   "metadata": {},
   "source": [
    "**ip3 install django**"
   ]
  },
  {
   "cell_type": "markdown",
   "metadata": {},
   "source": [
    "Puedes comprobar que está instalado Django ejecutando el siguiente comando (esto sólo comprueba que Python puede encontrar el módulo Django):"
   ]
  },
  {
   "cell_type": "markdown",
   "metadata": {},
   "source": [
    "*Linux/Mac OS X*"
   ]
  },
  {
   "cell_type": "markdown",
   "metadata": {},
   "source": [
    "**python3 -m django --version**"
   ]
  },
  {
   "cell_type": "markdown",
   "metadata": {},
   "source": [
    "*Windows*"
   ]
  },
  {
   "cell_type": "markdown",
   "metadata": {},
   "source": [
    "py -3 -m django --version"
   ]
  },
  {
   "cell_type": "markdown",
   "metadata": {},
   "source": []
  },
  {
   "cell_type": "markdown",
   "metadata": {},
   "source": [
    "### Comprobación de tu instalación"
   ]
  },
  {
   "cell_type": "markdown",
   "metadata": {},
   "source": [
    "La prueba de arriba funciona, pero no es muy divertida. Una comprobación más interesante es crear un esqueleto de proyecto y ver si funciona. "
   ]
  },
  {
   "cell_type": "markdown",
   "metadata": {},
   "source": [
    "**mkdir django_test**"
   ]
  },
  {
   "cell_type": "markdown",
   "metadata": {},
   "source": [
    "**cd django_test**"
   ]
  },
  {
   "cell_type": "markdown",
   "metadata": {},
   "source": [
    "Puedes crear a continuación un nuevo esqueleto de sitio llamado \"mytestsite\" usando la herramienta django-admin como se muestra a continuación. Después de crear el sitio puedes navegar a la carpeta donde encontrarás el script principal para la gestión de proyectos, llamado manage.py."
   ]
  },
  {
   "cell_type": "markdown",
   "metadata": {},
   "source": [
    "**django-admin startproject mytestsite**"
   ]
  },
  {
   "cell_type": "markdown",
   "metadata": {},
   "source": [
    "**cd mytestsite**"
   ]
  },
  {
   "cell_type": "markdown",
   "metadata": {},
   "source": [
    "Podemos arrancar el servidor web de desarrollo desde esta carpeta usando manage.py y el comando runserver, como se muestra."
   ]
  },
  {
   "cell_type": "markdown",
   "metadata": {},
   "source": [
    "**python3 manage.py runserver**"
   ]
  },
  {
   "cell_type": "markdown",
   "metadata": {},
   "source": [
    "*Performing system checks...*\n",
    "\n",
    "*System check identified no issues (0 silenced).*\n",
    "\n",
    "*You have 13 unapplied migration(s). Your project may not work properly until you apply the migrations for app(s): admin, auth, contenttypes, sessions.*\n",
    "*Run 'python manage.py migrate' to apply them.*\n",
    "\n",
    "*September 19, 2016 - 23:31:14*\n",
    "*Django version 1.10.1, using settings 'mysite.settings'*\n",
    "*Starting development server at* **http://127.0.0.1:8000/**\n",
    "*Quit the server with CONTROL-C.*"
   ]
  },
  {
   "cell_type": "markdown",
   "metadata": {},
   "source": [
    "*Una vez que tengas funcionando el servidor puedes ver el sitio navegando a la siguiente URL en tu explorador web local :* **http://127.0.0.1:8000/**."
   ]
  }
 ],
 "metadata": {
  "kernelspec": {
   "display_name": "Python 3",
   "language": "python",
   "name": "python3"
  },
  "language_info": {
   "codemirror_mode": {
    "name": "ipython",
    "version": 3
   },
   "file_extension": ".py",
   "mimetype": "text/x-python",
   "name": "python",
   "nbconvert_exporter": "python",
   "pygments_lexer": "ipython3",
   "version": "3.8.5"
  }
 },
 "nbformat": 4,
 "nbformat_minor": 4
}
